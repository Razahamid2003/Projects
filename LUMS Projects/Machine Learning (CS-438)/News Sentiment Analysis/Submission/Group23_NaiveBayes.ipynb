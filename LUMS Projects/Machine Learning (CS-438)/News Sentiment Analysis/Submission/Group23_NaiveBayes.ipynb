{
 "cells": [
  {
   "cell_type": "markdown",
   "metadata": {},
   "source": [
    "# 1st Model Implementation (Multinomial Naive Bayes)"
   ]
  },
  {
   "cell_type": "markdown",
   "metadata": {},
   "source": [
    "## Imports"
   ]
  },
  {
   "cell_type": "code",
   "execution_count": null,
   "metadata": {},
   "outputs": [],
   "source": [
    "import numpy as np\n",
    "import pandas as pd\n",
    "from sklearn.model_selection import train_test_split\n",
    "from sklearn.metrics import accuracy_score, precision_score, recall_score, f1_score, confusion_matrix"
   ]
  },
  {
   "cell_type": "markdown",
   "metadata": {},
   "source": [
    "### The cell below is only for when we have the four seperate .csv files that we need to merge and sort."
   ]
  },
  {
   "cell_type": "code",
   "execution_count": 10,
   "metadata": {},
   "outputs": [
    {
     "name": "stdout",
     "output_type": "stream",
     "text": [
      "Merged file saved as merged_file.csv\n"
     ]
    }
   ],
   "source": [
    "file1 = 'cleaned_articles_geo.csv'\n",
    "file2 = 'cleaned_articles_express.csv'\n",
    "file3 = 'cleaned_articles_dawn.csv'\n",
    "file4 = 'cleaned_articles_jang.csv'\n",
    "\n",
    "df1 = pd.read_csv(file1)\n",
    "df2 = pd.read_csv(file2)\n",
    "df3 = pd.read_csv(file3)\n",
    "df4 = pd.read_csv(file4)\n",
    "\n",
    "merged_df = pd.concat([df1, df2, df3, df4])\n",
    "\n",
    "merged_df['Index'] = range(len(merged_df))\n",
    "merged_df.set_index('Index', inplace=True)\n",
    "\n",
    "output_file = 'merged_file.csv'\n",
    "merged_df.to_csv(output_file, index=False)\n",
    "\n",
    "print(f\"Merged file saved as {output_file}\")\n"
   ]
  },
  {
   "cell_type": "markdown",
   "metadata": {},
   "source": [
    "# Splitting Data:"
   ]
  },
  {
   "cell_type": "markdown",
   "metadata": {},
   "source": [
    "The data has been split using sklearn into Training and Testing data in a 70-30 split. Validation data was not included in this model, since this is only the first model and it's implementation. In a Naive Bayes model, having validation data doesn't make much of a difference upon training of the model, thus we will only be using training and testing."
   ]
  },
  {
   "cell_type": "code",
   "execution_count": 11,
   "metadata": {},
   "outputs": [
    {
     "name": "stdout",
     "output_type": "stream",
     "text": [
      "Shape of Data: (1288, 5)\n",
      "Shape of Labels: (1288,)\n",
      "Shape of Training Data: (901, 5)\n",
      "Shape of Testing Data: (387, 5)\n",
      "Shape of Training Labels: (901,)\n",
      "Shape of Testing Labels: (387,)\n"
     ]
    }
   ],
   "source": [
    "X = merged_df.drop('Gold Label', axis=1)\n",
    "Y = merged_df['Gold Label']\n",
    "\n",
    "X_train, X_test, Y_train, Y_test = train_test_split(X, Y, test_size=0.3, random_state=42)\n",
    "\n",
    "print(\"Shape of Data:\", X.shape)\n",
    "print(\"Shape of Labels:\", Y.shape)\n",
    "print(\"Shape of Training Data:\", X_train.shape)\n",
    "print(\"Shape of Testing Data:\", X_test.shape)\n",
    "print(\"Shape of Training Labels:\", Y_train.shape)\n",
    "print(\"Shape of Testing Labels:\", Y_test.shape)"
   ]
  },
  {
   "cell_type": "markdown",
   "metadata": {},
   "source": [
    "# Multinomial Naive Bayes Implementation:\n",
    "## Bag of Words:\n",
    "\n",
    "Since we are implementing a *Multinomial* Naive Bayes model, we will need to create a Bag of Words Function.\n",
    "1. Fit: Creates an empty set 'vocab_set', and for each sentance in the dataset, splits the words and adds every unique (all words only once) into the set.\n",
    "\n",
    "2. Vectorize: This converts every sentance in the dataset into a vector representation, based on the number of repetiotions of each word in that sentance, by creating a zero vector and incrementing the word counter of the vector based on the word's index.\n",
    "\n",
    "3. Transform:  This merely converts an entire corpus into a matrix of vectors"
   ]
  },
  {
   "cell_type": "code",
   "execution_count": 12,
   "metadata": {},
   "outputs": [],
   "source": [
    "class BagOfWords:\n",
    "    def __init__(self):\n",
    "        self.vocab = {}\n",
    "    \n",
    "    def fit(self, corpus):\n",
    "        vocab_set = set()\n",
    "        \n",
    "        for sentence in corpus:\n",
    "            words = sentence.split()\n",
    "            vocab_set.update(words)\n",
    "        \n",
    "        self.vocab = {word: idx for idx, word in enumerate(sorted(vocab_set))}\n",
    "\n",
    "    def vectorize(self, sentence):\n",
    "        vector = np.zeros(len(self.vocab))\n",
    "        words = sentence.split()\n",
    "        \n",
    "        for word in words:\n",
    "            if word in self.vocab:\n",
    "                vector[self.vocab[word]] += 1\n",
    "                \n",
    "        return vector\n",
    "\n",
    "    def transform(self, corpus):\n",
    "        return np.array([self.vectorize(sentence) for sentence in corpus])"
   ]
  },
  {
   "cell_type": "markdown",
   "metadata": {},
   "source": [
    "We now create a testing and training corpus based on the test and train dataset. Once done, we initialize the BagofWords function and fit it to the training Corpus. The reason behind this is to maintain consistency when comparing outputs. The corpus of training and testing is then transformed into Bag of Words variables which will be used in the training and testing of our Naive Bayes Model."
   ]
  },
  {
   "cell_type": "code",
   "execution_count": 13,
   "metadata": {},
   "outputs": [],
   "source": [
    "corpus_train = X_train['Cleaned_content']\n",
    "corpus_test = X_test['Cleaned_content']\n",
    "\n",
    "bow = BagOfWords()\n",
    "bow.fit(corpus_train)\n",
    "\n",
    "X_train_bow = bow.transform(corpus_train)\n",
    "X_test_bow = bow.transform(corpus_test)"
   ]
  },
  {
   "cell_type": "markdown",
   "metadata": {},
   "source": [
    "## Model Creation from scratch:"
   ]
  },
  {
   "cell_type": "markdown",
   "metadata": {},
   "source": [
    "To create the Multinomial model from scratch, we implemented the following formula: \n",
    "$$\n",
    "P(y \\mid x) = \\frac{P(x \\mid y)P(y)}{P(x)}\n",
    "$$\n",
    "We also want to find the class $c$ that maximizes $P(c \\mid x)$, so we can use the following equation:\n",
    "\n",
    "$$\n",
    "\\hat{c} = \\underset{c}{\\text{argmax}} \\ P(c) \\prod_{i=1}^{n} P(x_i \\mid c)\n",
    "$$\n",
    "\n",
    "1. Fit: To estimate probability $P(c)$, we count the number of occurences of each class in our training data. To find $P(x_i \\mid c)$, we count the number of times the $i^{\\text{th}}$ word in our vocabulary appears in sentences of a given class, and dividing by the total number of words in sentences of that class.\n",
    "\n",
    "2. Predict: We then predict the class of a given vector/sentance, based on the formula: $\\hat{c} = \\underset{c}{\\text{argmax}} \\ \\log P(c) + \\sum_{i=1}^{n} \\log P(x_i \\mid c)$. The reason we apply logarithms to the is to $\\hat{c}$ is to translate the produnct into a sum and avoid underflow errors."
   ]
  },
  {
   "cell_type": "code",
   "execution_count": 14,
   "metadata": {},
   "outputs": [],
   "source": [
    "class MultinomialNaiveBayes:\n",
    "    def __init__(self):\n",
    "        self.class_priors = {}\n",
    "        self.conditional_probs = {}\n",
    "        self.vocab = None\n",
    "        self.class_counts = {}\n",
    "    \n",
    "    def fit(self, X, y):\n",
    "        n_samples, n_features = X.shape\n",
    "        self.vocab = np.arange(n_features)\n",
    "\n",
    "        self.class_counts = {}\n",
    "        for label in y:\n",
    "            if label in self.class_counts:\n",
    "                self.class_counts[label] += 1\n",
    "            else:\n",
    "                self.class_counts[label] = 1\n",
    "        \n",
    "        total_samples = len(y)\n",
    "        self.class_priors = {label: count / total_samples for label, count in self.class_counts.items()}\n",
    "        \n",
    "        self.conditional_probs = {}\n",
    "        for label in self.class_counts:\n",
    "            self.conditional_probs[label] = np.zeros(n_features)\n",
    "        \n",
    "        for idx, label in enumerate(y):\n",
    "            self.conditional_probs[label] += X[idx]\n",
    "        \n",
    "        for label in self.conditional_probs:\n",
    "            total_words = self.conditional_probs[label].sum()\n",
    "            self.conditional_probs[label] = (self.conditional_probs[label] + 1) / (total_words + n_features)\n",
    "\n",
    "    def predict(self, X):\n",
    "        predictions = []\n",
    "        for x in X:\n",
    "            log_probs = {}\n",
    "            for label in self.class_priors:\n",
    "                log_prob = np.log(self.class_priors[label])\n",
    "                log_prob += np.sum(np.log(self.conditional_probs[label]) * x)\n",
    "                log_probs[label] = log_prob\n",
    "            \n",
    "            predicted_class = max(log_probs, key=log_probs.get)\n",
    "            predictions.append(predicted_class)\n",
    "        \n",
    "        return predictions"
   ]
  },
  {
   "cell_type": "markdown",
   "metadata": {},
   "source": [
    "## Testing the Model:"
   ]
  },
  {
   "cell_type": "markdown",
   "metadata": {},
   "source": [
    "Finally the model is trained using our training Bag of Words variable and labels, we then use our testing Bag of Words to generate predicted labels for each vector in the testing dataset. These predicted values are then compared with the actual labels of the testing dataset, using sklearn metrics, to ensure that our model sucessfully ran without any errors, or biases of any sort."
   ]
  },
  {
   "cell_type": "code",
   "execution_count": 15,
   "metadata": {},
   "outputs": [
    {
     "name": "stdout",
     "output_type": "stream",
     "text": [
      "Bernoulli Naive Bayes Metrics:\n",
      "Accuracy: 0.9561\n",
      "Precision: 0.9563\n",
      "Recall: 0.9561\n",
      "F1 Score: 0.9560\n",
      "Confusion Matrix:\n",
      "[[70  0  0  0  1]\n",
      " [ 0 66  1  0  1]\n",
      " [ 2  0 71  0  3]\n",
      " [ 0  0  0 87  2]\n",
      " [ 2  2  2  1 76]]\n"
     ]
    }
   ],
   "source": [
    "mnb = MultinomialNaiveBayes()\n",
    "mnb.fit(X_train_bow, Y_train)\n",
    "\n",
    "y_test_pred = mnb.predict(X_test_bow)\n",
    "\n",
    "accuracy = accuracy_score(Y_test, y_test_pred)\n",
    "precision = precision_score(Y_test, y_test_pred, average='weighted')\n",
    "recall = recall_score(Y_test, y_test_pred, average='weighted')\n",
    "f1 = f1_score(Y_test, y_test_pred, average='weighted')\n",
    "conf_matrix = confusion_matrix(Y_test, y_test_pred)\n",
    "\n",
    "print(\"Bernoulli Naive Bayes Metrics:\")\n",
    "print(f\"Accuracy: {accuracy:.4f}\")\n",
    "print(f\"Precision: {precision:.4f}\")\n",
    "print(f\"Recall: {recall:.4f}\")\n",
    "print(f\"F1 Score: {f1:.4f}\")\n",
    "print(\"Confusion Matrix:\")\n",
    "print(conf_matrix)"
   ]
  },
  {
   "cell_type": "markdown",
   "metadata": {},
   "source": [
    "Based on the output, we can see that we have achieved a very high accuracy of 95.6%. Along with this we observe a 95.63% and 95.61% precision and recall values, respectively, which in turn leads to a high F1 Score of 95.6%, this means that the model generalizes well across different classes and doesn't show bias. This coupled with the high Accuracy means that we can safely say that the Multinomial Naive Bayes model was implemented sucessfully."
   ]
  }
 ],
 "metadata": {
  "kernelspec": {
   "display_name": "Python 3",
   "language": "python",
   "name": "python3"
  },
  "language_info": {
   "codemirror_mode": {
    "name": "ipython",
    "version": 3
   },
   "file_extension": ".py",
   "mimetype": "text/x-python",
   "name": "python",
   "nbconvert_exporter": "python",
   "pygments_lexer": "ipython3",
   "version": "3.12.3"
  }
 },
 "nbformat": 4,
 "nbformat_minor": 2
}
